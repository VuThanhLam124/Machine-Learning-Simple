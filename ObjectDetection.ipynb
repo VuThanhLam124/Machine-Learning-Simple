{
 "cells": [
  {
   "cell_type": "markdown",
   "metadata": {},
   "source": [
    "Các vấn đề xung quanh Object Detection"
   ]
  },
  {
   "cell_type": "markdown",
   "metadata": {},
   "source": [
    "Trong cuộc sống hiện đại ngày nay, việc các mô hình hay thuật toán có khả năng nhận diện đối tượng đã không còn gì là xa lạ đối với mọi người, một trong những ví dụ thường gặp như hệ thống camera phạt nguội ở các nút giao thông, hay các module điểm danh/chấm công bằng khuôn mặt.\n",
    "\n",
    "Hôm nay, chúng ta hãy cùng tìm hiểu về các vấn đề, nguyên lí của thuật toán Object Detection. Trước tiên, một số thuật ngữ hay được sử dụng như:\n",
    "- Bounding box: là một hình chữ nhật bao quanh một vật thể.\n",
    "- Feature: là một vector mô tả một vật thể.\n",
    "- Feature map: là một tensor mà mỗi phần tử là một feature.\n",
    "- Anchor: là một bounding box có kích thước và tỷ lệ cố định.\n",
    "- Proposal: là một bounding box được đề xuất.\n",
    "- RoI (Region of Interest): là một bounding box được chọn từ feature map.\n",
    "- RoI pooling: là một phép pooling được thực hiện trên một RoI.\n",
    "- ...\n",
    "\n",
    "\n",
    "Về tư tưởng của object detection:\n",
    "1. Chia ảnh thành các ô nhỏ (sliding window)\n",
    "2. Dùng mô hình để dự đoán xem ô đó có chứa object hay không\n",
    "3. Nếu có object thì vẽ bounding box\n",
    "4. Lặp lại cho tất cả các ô\n",
    "\n",
    "Oke, nghe thì có vẻ là đơn giản, tuy nhiên chúng ta hãy thử tiếp cận bằng 2 cách khác nhau:\n",
    "- sử dụng thuần các thư viện như OpenCV, dlib, các thuật toán Machine Learning\n",
    "- sử dụng các mô hình Deep Learning, đặc biệt là nhóm mô hình họ YOLO, nói về YOLO thì chúng ta sẽ nói ở bài sau :D"
   ]
  },
  {
   "cell_type": "markdown",
   "metadata": {},
   "source": [
    "Trước hết, hãy thử tiếp cận theo hướng thứ nhất. Hãy import các thư viện hay sử dụng: "
   ]
  },
  {
   "cell_type": "code",
   "execution_count": 6,
   "metadata": {},
   "outputs": [],
   "source": [
    "import cv2\n",
    "import matplotlib.pyplot as plt\n",
    "import shutil\n",
    "import PIL\n",
    "import numpy as np\n",
    "import sys\n",
    "import os\n",
    "import sklearn\n",
    "from IPython.display import clear_output"
   ]
  },
  {
   "cell_type": "code",
   "execution_count": 18,
   "metadata": {},
   "outputs": [],
   "source": [
    "def remove(PATH):\n",
    "    for i in os.listdir(PATH):\n",
    "        os.remove(PATH + '/' + i)\n",
    "def re_size(PATH):\n",
    "    if os.path.exists('image_processed'):\n",
    "        remove('image_processed')\n",
    "    else:\n",
    "        os.makedirs('image_processed')\n",
    "    PATH_TO = 'image_processed'\n",
    "    for i in os.listdir(PATH):\n",
    "        img = cv2.imread(PATH + '/' + i)\n",
    "        img = cv2.resize(img, (256, 256))\n",
    "        cv2.imwrite(PATH_TO + '/' + i, img)\n",
    "    print(\"All images resized!\")\n"
   ]
  },
  {
   "cell_type": "code",
   "execution_count": 19,
   "metadata": {},
   "outputs": [
    {
     "name": "stdout",
     "output_type": "stream",
     "text": [
      "All images resized!\n"
     ]
    }
   ],
   "source": [
    "re_size('image')"
   ]
  },
  {
   "cell_type": "markdown",
   "metadata": {},
   "source": [
    "OKE, đó là 1 chút thủ đoạn tiền xử lí dữ liệu :D Đối với cách tiếp cận thứ nhất, mình sẽ dùng từ là khá \"tù\", vì bị hạn chế đối với từng đối tượng mà ta muốn xác định. Lấy ví dụ, nếu bạn muốn xác định một vật có dạng hình vuông trong ảnh, việc đầu tiên bạn làm sẽ là sử dụng Canny để lấy cạnh của ảnh, sau đó dùng houghline để tìm "
   ]
  },
  {
   "cell_type": "code",
   "execution_count": null,
   "metadata": {},
   "outputs": [],
   "source": [
    "\"\"\"\n",
    "\n",
    "\"\"\""
   ]
  }
 ],
 "metadata": {
  "kernelspec": {
   "display_name": "myenv",
   "language": "python",
   "name": "python3"
  },
  "language_info": {
   "codemirror_mode": {
    "name": "ipython",
    "version": 3
   },
   "file_extension": ".py",
   "mimetype": "text/x-python",
   "name": "python",
   "nbconvert_exporter": "python",
   "pygments_lexer": "ipython3",
   "version": "3.10.12"
  }
 },
 "nbformat": 4,
 "nbformat_minor": 2
}
