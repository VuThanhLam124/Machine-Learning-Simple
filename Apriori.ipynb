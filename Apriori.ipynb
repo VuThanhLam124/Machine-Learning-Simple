{
 "cells": [
  {
   "cell_type": "code",
   "execution_count": 39,
   "metadata": {},
   "outputs": [],
   "source": [
    "import pandas as pd\n",
    "from mlxtend.frequent_patterns import apriori\n",
    "from mlxtend.frequent_patterns import association_rules"
   ]
  },
  {
   "cell_type": "code",
   "execution_count": 40,
   "metadata": {},
   "outputs": [
    {
     "data": {
      "text/plain": [
       "'\\nBảng công thức để implement thuật toán Apriori\\ncông thức: lift(A -> B) = confidence(A -> B) / support(B) với support(B) = count(B) / N\\ncông thức confidence: confidence(A -> B) = support(A, B) / support(A)\\ncông thức support: support(A, B) = count(A, B) / N với N là số lượng giao dịch, count(A, B) là số lần A và B xuất hiện cùng nhau trong giao dịch\\n\\nTừ đó ta công thức của lift(A -> B) = count(A, B) / (count(A) * count(B) / N)\\n'"
      ]
     },
     "execution_count": 40,
     "metadata": {},
     "output_type": "execute_result"
    }
   ],
   "source": [
    "\"\"\"\n",
    "Bảng công thức để implement thuật toán Apriori\n",
    "công thức: lift(A -> B) = confidence(A -> B) / support(B) với support(B) = count(B) / N\n",
    "công thức confidence: confidence(A -> B) = support(A, B) / support(A)\n",
    "công thức support: support(A, B) = count(A, B) / N với N là số lượng giao dịch, count(A, B) là số lần A và B xuất hiện cùng nhau trong giao dịch\n",
    "\n",
    "Từ đó ta công thức của lift(A -> B) = count(A, B) / (count(A) * count(B) / N)\n",
    "\"\"\""
   ]
  },
  {
   "cell_type": "code",
   "execution_count": null,
   "metadata": {},
   "outputs": [],
   "source": [
    "\"\"\"\n",
    "Ví dụ cho dễ hiểu:\n",
    "Giả sử có 5 giao dịch:\n",
    "1. Bread, Milk\n",
    "2. Bread, Butter\n",
    "3. Milk, Butter\n",
    "4. Bread, Milk, Butter\n",
    "5. Bread, Milk, Eggs\n",
    "\n",
    "Lk: Đây là tập hợp frequent k-itemsets (tập hợp k-mục phổ biến), nghĩa là những tập hợp k-mục mà đã thỏa mãn ngưỡng support tối thiểu (δ).\n",
    "Ở ví dụ trên ta khởi tạo δ = 0.6 (60%).\n",
    "\n",
    "Bước 1: Khởi tạo C1 và L1,\n",
    "\n",
    "C1 chứa các mục đơn: {Bread}, {Milk}, {Butter}, {Eggs}.\n",
    "Tính support cho từng mục:\n",
    "Support(Bread) = 4/5 = 0.8\n",
    "Support(Milk) = 4/5 = 0.8\n",
    "Support(Butter) = 4/5 = 0.8\n",
    "Support(Eggs) = 2/5 = 0.4\n",
    "L1 giữ lại các mục có support ≥ 0.6: {Bread}, {Milk}, {Butter}.\n",
    "Bước 2: Sinh C2 từ L1\n",
    "\n",
    "C2 (tập 2-itemsets) có thể chứa các tập hợp như: {Bread, Milk}, {Bread, Butter}, {Milk, Butter}., L2 = 60% (ngưỡng support).\n",
    "Tính support cho từng tập hợp:\n",
    "Support({Bread, Milk}) = 3/5 = 0.6\n",
    "Support({Bread, Butter}) = 3/5 = 0.6\n",
    "Support({Milk, Butter}) = 3/5 = 0.6\n",
    "L2 giữ lại các tập hợp có support ≥ 0.6: {Bread, Milk}, {Bread, Butter}, {Milk, Butter}.\n",
    "Bước 3: Sinh C3 từ L2\n",
    "\n",
    "C3 (tập 3-itemsets) chứa: {Bread, Milk, Butter}.\n",
    "Tính support cho {Bread, Milk, Butter}:\n",
    "Support({Bread, Milk, Butter}) = 2/5 = 0.4 (bị loại bỏ vì không thỏa mãn ngưỡng support 0.6).\n",
    "L3 rỗng, quá trình dừng lại.\n",
    "\n",
    "Từ kết quả trên, ta có thể tạo ra các luật kết hợp như sau:\n",
    "{Bread} => {Milk} (support = 0.6, confidence = 0.75)\n",
    "{Milk} => {Bread} (support = 0.6, confidence = 0.75)\n",
    "{Bread} => {Butter} (support = 0.6, confidence = 0.75)\n",
    "{Butter} => {Bread} (support = 0.6, confidence = 0.75)\n",
    "{Milk} => {Butter} (support = 0.6, confidence = 0.75)\n",
    "{Butter} => {Milk} (support = 0.6, confidence = 0.75)\n",
    "{Bread, Milk} => {Butter} (support = 0.6, confidence = 1.0)\n",
    "...\n",
    "\n",
    "Và nếu như ta là người quản lý cửa hàng, ta có thể áp dụng các luật kết hợp trên để tăng doanh số bán hàng, ví dụ như:\n",
    "- Khi khách hàng mua Bread, Milk thì khuyến mãi Butter\n",
    "- Khi khách hàng mua Milk, Butter thì khuyến mãi Bread\n",
    "- Khi khách hàng mua Bread, Butter thì khuyến mãi Milk\n",
    "- ...\n",
    "\"\"\""
   ]
  },
  {
   "cell_type": "markdown",
   "metadata": {},
   "source": [
    "Imply cho thuật toán"
   ]
  },
  {
   "cell_type": "code",
   "execution_count": 41,
   "metadata": {},
   "outputs": [],
   "source": [
    "# Dữ liệu ví dụ - Các giao dịch giỏ hàng\n",
    "data = {\n",
    "    'Bread': [1, 1, 0, 1, 0, 1, 0, 0, 1, 1],\n",
    "    'Butter': [1, 1, 1, 0, 1, 0, 1, 1, 0, 1],\n",
    "    'Milk': [0, 1, 1, 1, 1, 1, 0, 1, 1, 0],\n",
    "    'Eggs': [1, 0, 1, 1, 1, 0, 1, 1, 0, 1],\n",
    "    'Cheese': [0, 1, 0, 0, 1, 1, 0, 0, 1, 1],\n",
    "    'Apples': [1, 0, 1, 0, 1, 1, 0, 1, 0, 1],\n",
    "    'Bananas': [0, 1, 0, 1, 0, 1, 1, 0, 1, 0]\n",
    "}"
   ]
  },
  {
   "cell_type": "code",
   "execution_count": 51,
   "metadata": {},
   "outputs": [
    {
     "name": "stdout",
     "output_type": "stream",
     "text": [
      "lift(Bread -> Butter) = 0.7142857142857143\n",
      "lift(Bread -> Milk) = 0.9523809523809524\n",
      "lift(Bread -> Eggs) = 0.7142857142857143\n",
      "lift(Bread -> Cheese) = 1.3333333333333333\n",
      "lift(Bread -> Apples) = 0.8333333333333334\n",
      "lift(Bread -> Bananas) = 1.3333333333333333\n"
     ]
    }
   ],
   "source": [
    "# thử tính toán các giá trị support, confidence và lift với dữ liệu trên\n",
    "def support(data, item):\n",
    "    return sum(data[item]) / len(data[item])\n",
    "\n",
    "def confidence(data, item1, item2):\n",
    "    count = 0\n",
    "    for i in range(len(data[item1])):\n",
    "        if data[item1][i] == 1 and data[item2][i] == 1:\n",
    "            count += 1\n",
    "    return count / sum(data[item1])\n",
    "\n",
    "def lift(data, item1, item2):\n",
    "    return confidence(data, item1, item2) / support(data, item2)\n",
    "\n",
    "# Tính toán các giá trị support, confidence và lift\n",
    "for item1 in data.keys():\n",
    "    for item2 in data.keys():\n",
    "        if item1 != item2 and item1 == 'Bread':\n",
    "            print(f\"lift({item1} -> {item2}) = {lift(data, item1, item2)}\")"
   ]
  },
  {
   "cell_type": "code",
   "execution_count": 54,
   "metadata": {},
   "outputs": [
    {
     "name": "stdout",
     "output_type": "stream",
     "text": [
      "Index(['antecedents', 'consequents', 'antecedent support',\n",
      "       'consequent support', 'support', 'confidence', 'lift', 'leverage',\n",
      "       'conviction', 'zhangs_metric'],\n",
      "      dtype='object')\n"
     ]
    },
    {
     "name": "stderr",
     "output_type": "stream",
     "text": [
      "c:\\Users\\ADMIN\\anaconda3\\envs\\myenv\\lib\\site-packages\\mlxtend\\frequent_patterns\\fpcommon.py:109: DeprecationWarning: DataFrames with non-bool types result in worse computationalperformance and their support might be discontinued in the future.Please use a DataFrame with bool type\n",
      "  warnings.warn(\n"
     ]
    }
   ],
   "source": [
    "# So sánh với thư viện mlxtend\n",
    "df = pd.DataFrame(data)\n",
    "frequent_itemsets = apriori(df, min_support=0.3, use_colnames=True)\n",
    "rules = association_rules(frequent_itemsets, metric=\"lift\", min_threshold=1)\n",
    "\n",
    "# lấy các feature của rules\n",
    "print(rules.columns)"
   ]
  },
  {
   "cell_type": "code",
   "execution_count": 55,
   "metadata": {},
   "outputs": [
    {
     "name": "stdout",
     "output_type": "stream",
     "text": [
      "                 antecedents              consequents  antecedent support  \\\n",
      "0                    (Bread)                 (Cheese)                 0.6   \n",
      "3                    (Bread)                (Bananas)                 0.6   \n",
      "18             (Bread, Milk)                 (Cheese)                 0.4   \n",
      "19           (Bread, Cheese)                   (Milk)                 0.4   \n",
      "21                   (Bread)           (Cheese, Milk)                 0.6   \n",
      "24          (Bread, Bananas)                   (Milk)                 0.4   \n",
      "26             (Bread, Milk)                (Bananas)                 0.4   \n",
      "28                   (Bread)          (Bananas, Milk)                 0.6   \n",
      "30          (Bread, Bananas)                 (Cheese)                 0.4   \n",
      "32           (Bread, Cheese)                (Bananas)                 0.4   \n",
      "34                   (Bread)        (Bananas, Cheese)                 0.6   \n",
      "60    (Bread, Bananas, Milk)                 (Cheese)                 0.4   \n",
      "61  (Bread, Bananas, Cheese)                   (Milk)                 0.3   \n",
      "63     (Bread, Milk, Cheese)                (Bananas)                 0.3   \n",
      "64          (Bread, Bananas)           (Cheese, Milk)                 0.4   \n",
      "67             (Bread, Milk)        (Bananas, Cheese)                 0.4   \n",
      "68           (Bread, Cheese)          (Bananas, Milk)                 0.4   \n",
      "71                   (Bread)  (Bananas, Milk, Cheese)                 0.6   \n",
      "\n",
      "    consequent support  support  confidence      lift  leverage  conviction  \\\n",
      "0                  0.5      0.4    0.666667  1.333333      0.10         1.5   \n",
      "3                  0.5      0.4    0.666667  1.333333      0.10         1.5   \n",
      "18                 0.5      0.3    0.750000  1.500000      0.10         2.0   \n",
      "19                 0.7      0.3    0.750000  1.071429      0.02         1.2   \n",
      "21                 0.4      0.3    0.500000  1.250000      0.06         1.2   \n",
      "24                 0.7      0.4    1.000000  1.428571      0.12         inf   \n",
      "26                 0.5      0.4    1.000000  2.000000      0.20         inf   \n",
      "28                 0.4      0.4    0.666667  1.666667      0.16         1.8   \n",
      "30                 0.5      0.3    0.750000  1.500000      0.10         2.0   \n",
      "32                 0.5      0.3    0.750000  1.500000      0.10         2.0   \n",
      "34                 0.3      0.3    0.500000  1.666667      0.12         1.4   \n",
      "60                 0.5      0.3    0.750000  1.500000      0.10         2.0   \n",
      "61                 0.7      0.3    1.000000  1.428571      0.09         inf   \n",
      "63                 0.5      0.3    1.000000  2.000000      0.15         inf   \n",
      "64                 0.4      0.3    0.750000  1.875000      0.14         2.4   \n",
      "67                 0.3      0.3    0.750000  2.500000      0.18         2.8   \n",
      "68                 0.4      0.3    0.750000  1.875000      0.14         2.4   \n",
      "71                 0.3      0.3    0.500000  1.666667      0.12         1.4   \n",
      "\n",
      "    zhangs_metric  \n",
      "0        0.625000  \n",
      "3        0.625000  \n",
      "18       0.555556  \n",
      "19       0.111111  \n",
      "21       0.500000  \n",
      "24       0.500000  \n",
      "26       0.833333  \n",
      "28       1.000000  \n",
      "30       0.555556  \n",
      "32       0.555556  \n",
      "34       1.000000  \n",
      "60       0.555556  \n",
      "61       0.428571  \n",
      "63       0.714286  \n",
      "64       0.777778  \n",
      "67       1.000000  \n",
      "68       0.777778  \n",
      "71       1.000000  \n"
     ]
    }
   ],
   "source": [
    "# Lọc các rules có antecedents chứa 'Bread'\n",
    "bread_rules = rules[rules['antecedents'].apply(lambda x: 'Bread' in x)]\n",
    "print(bread_rules)"
   ]
  },
  {
   "cell_type": "code",
   "execution_count": 44,
   "metadata": {},
   "outputs": [
    {
     "name": "stdout",
     "output_type": "stream",
     "text": [
      "Frequent Itemsets:\n",
      "    support                itemsets\n",
      "0       0.6                 (Bread)\n",
      "1       0.7                (Butter)\n",
      "2       0.7                  (Milk)\n",
      "3       0.7                  (Eggs)\n",
      "4       0.5                (Cheese)\n",
      "5       0.6                (Apples)\n",
      "6       0.5               (Bananas)\n",
      "7       0.6          (Eggs, Butter)\n",
      "8       0.5        (Apples, Butter)\n",
      "9       0.5          (Eggs, Apples)\n",
      "10      0.5  (Apples, Eggs, Butter)\n"
     ]
    },
    {
     "name": "stderr",
     "output_type": "stream",
     "text": [
      "c:\\Users\\ADMIN\\anaconda3\\envs\\myenv\\lib\\site-packages\\mlxtend\\frequent_patterns\\fpcommon.py:109: DeprecationWarning: DataFrames with non-bool types result in worse computationalperformance and their support might be discontinued in the future.Please use a DataFrame with bool type\n",
      "  warnings.warn(\n"
     ]
    }
   ],
   "source": [
    "# Bước 1: Áp dụng thuật toán Apriori để tìm frequent itemsets\n",
    "# Support tối thiểu: 0.5 (tức là mục phải xuất hiện trong ít nhất 50% giao dịch)\n",
    "frequent_itemsets = apriori(df, min_support=0.5, use_colnames=True)\n",
    "\n",
    "print(\"Frequent Itemsets:\")\n",
    "print(frequent_itemsets)"
   ]
  },
  {
   "cell_type": "code",
   "execution_count": 45,
   "metadata": {},
   "outputs": [
    {
     "name": "stdout",
     "output_type": "stream",
     "text": [
      "\n",
      "Association Rules:\n",
      "         antecedents       consequents  antecedent support  \\\n",
      "0             (Eggs)          (Butter)                 0.7   \n",
      "1           (Butter)            (Eggs)                 0.7   \n",
      "2           (Apples)          (Butter)                 0.6   \n",
      "3           (Butter)          (Apples)                 0.7   \n",
      "4             (Eggs)          (Apples)                 0.7   \n",
      "5           (Apples)            (Eggs)                 0.6   \n",
      "6     (Eggs, Apples)          (Butter)                 0.5   \n",
      "7   (Butter, Apples)            (Eggs)                 0.5   \n",
      "8     (Eggs, Butter)          (Apples)                 0.6   \n",
      "9           (Apples)    (Eggs, Butter)                 0.6   \n",
      "10            (Eggs)  (Butter, Apples)                 0.7   \n",
      "11          (Butter)    (Eggs, Apples)                 0.7   \n",
      "\n",
      "    consequent support  support  confidence      lift  leverage  conviction  \\\n",
      "0                  0.7      0.6    0.857143  1.224490      0.11        2.10   \n",
      "1                  0.7      0.6    0.857143  1.224490      0.11        2.10   \n",
      "2                  0.7      0.5    0.833333  1.190476      0.08        1.80   \n",
      "3                  0.6      0.5    0.714286  1.190476      0.08        1.40   \n",
      "4                  0.6      0.5    0.714286  1.190476      0.08        1.40   \n",
      "5                  0.7      0.5    0.833333  1.190476      0.08        1.80   \n",
      "6                  0.7      0.5    1.000000  1.428571      0.15         inf   \n",
      "7                  0.7      0.5    1.000000  1.428571      0.15         inf   \n",
      "8                  0.6      0.5    0.833333  1.388889      0.14        2.40   \n",
      "9                  0.6      0.5    0.833333  1.388889      0.14        2.40   \n",
      "10                 0.5      0.5    0.714286  1.428571      0.15        1.75   \n",
      "11                 0.5      0.5    0.714286  1.428571      0.15        1.75   \n",
      "\n",
      "    zhangs_metric  \n",
      "0        0.611111  \n",
      "1        0.611111  \n",
      "2        0.400000  \n",
      "3        0.533333  \n",
      "4        0.533333  \n",
      "5        0.400000  \n",
      "6        0.600000  \n",
      "7        0.600000  \n",
      "8        0.700000  \n",
      "9        0.700000  \n",
      "10       1.000000  \n",
      "11       1.000000  \n"
     ]
    }
   ],
   "source": [
    "# Bước 2: Tạo association rules từ các frequent itemsets\n",
    "# Confidence tối thiểu: 0.5 (tức là rule phải đúng ít nhất 50% theo ngưỡng confidence)\n",
    "rules = association_rules(frequent_itemsets, metric=\"confidence\", min_threshold=0.5)\n",
    "\n",
    "print(\"\\nAssociation Rules:\")\n",
    "print(rules)"
   ]
  },
  {
   "cell_type": "code",
   "execution_count": 46,
   "metadata": {},
   "outputs": [
    {
     "name": "stdout",
     "output_type": "stream",
     "text": [
      "\n",
      "Association Rules:\n",
      "        antecedents     consequents  antecedent support  consequent support  \\\n",
      "0            (Eggs)        (Butter)                 0.7                 0.7   \n",
      "1          (Butter)          (Eggs)                 0.7                 0.7   \n",
      "2          (Apples)        (Butter)                 0.6                 0.7   \n",
      "3          (Apples)          (Eggs)                 0.6                 0.7   \n",
      "4    (Eggs, Apples)        (Butter)                 0.5                 0.7   \n",
      "5  (Butter, Apples)          (Eggs)                 0.5                 0.7   \n",
      "6    (Eggs, Butter)        (Apples)                 0.6                 0.6   \n",
      "7          (Apples)  (Eggs, Butter)                 0.6                 0.6   \n",
      "\n",
      "   support  confidence      lift  leverage  conviction  zhangs_metric  \n",
      "0      0.6    0.857143  1.224490      0.11         2.1       0.611111  \n",
      "1      0.6    0.857143  1.224490      0.11         2.1       0.611111  \n",
      "2      0.5    0.833333  1.190476      0.08         1.8       0.400000  \n",
      "3      0.5    0.833333  1.190476      0.08         1.8       0.400000  \n",
      "4      0.5    1.000000  1.428571      0.15         inf       0.600000  \n",
      "5      0.5    1.000000  1.428571      0.15         inf       0.600000  \n",
      "6      0.5    0.833333  1.388889      0.14         2.4       0.700000  \n",
      "7      0.5    0.833333  1.388889      0.14         2.4       0.700000  \n"
     ]
    }
   ],
   "source": [
    "rules2 = association_rules(frequent_itemsets, metric=\"confidence\", min_threshold=0.8)\n",
    "\n",
    "print(\"\\nAssociation Rules:\")\n",
    "print(rules2)"
   ]
  },
  {
   "cell_type": "code",
   "execution_count": 47,
   "metadata": {},
   "outputs": [],
   "source": [
    "# lift: chỉ số lift càng lớn thì càng tốt, nếu lift > 1 thì rule này có ý nghĩa\n",
    "# lift: Đo lường mức độ cải thiện của sự xuất hiện cùng nhau của hai mục so với khi chúng xuất hiện độc lập"
   ]
  }
 ],
 "metadata": {
  "kernelspec": {
   "display_name": "myenv",
   "language": "python",
   "name": "python3"
  },
  "language_info": {
   "codemirror_mode": {
    "name": "ipython",
    "version": 3
   },
   "file_extension": ".py",
   "mimetype": "text/x-python",
   "name": "python",
   "nbconvert_exporter": "python",
   "pygments_lexer": "ipython3",
   "version": "3.10.12"
  }
 },
 "nbformat": 4,
 "nbformat_minor": 2
}
